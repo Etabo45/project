# Import tkinter and ttk
import tkinter as tk
from tkinter import ttk

# Create main window
root = tk.Tk()
root.title("Expense Tracker")
root.geometry("600x500")
root.configure(bg="darksea green")

# Styling
style = ttk.Style()
style.configure("TButton", font=("Arial", 12), padding=5)
style.configure("Treeview.Heading", font=("Arial", 12, "bold"))

# Frame for input fields
frame = tk.Frame(root, bg="darkgreen", padx=20, pady=20, relief=tk.RIDGE, bd=2)
frame.place(relx=0.5, rely=0.2, anchor=tk.CENTER)

# Input fields
tk.Label(frame, text="Expense Name:", bg="#ffffff", font=("Arial", 12)).grid(row=0, column=0, padx=10, pady=5)
name_entry = tk.Entry(frame, font=("Arial", 12))
name_entry.grid(row=0, column=1, padx=10, pady=5)

tk.Label(frame, text="Amount:", bg="#ffffff", font=("Arial", 12)).grid(row=1, column=0, padx=10, pady=5)
amount_entry = tk.Entry(frame, font=("Arial", 12))
amount_entry.grid(row=1, column=1, padx=10, pady=5)

# Dropdown for categories
category_options = ["Food", "Transport", "Entertainment", "Shopping", "Bills", "Education", "Other"]
category_var = tk.StringVar()

tk.Label(frame, text="Category:", bg="#ffffff", font=("Arial", 12)).grid(row=2, column=0, padx=10, pady=5)
category_entry = ttk.Combobox(frame, textvariable=category_var, font=("Arial", 12), values=category_options, state="editable")
category_entry.grid(row=2, column=1, padx=10, pady=5)
category_entry.set("")  # Default empty

# Buttons
button_frame = tk.Frame(root, bg="darkgreen")
button_frame.place(relx=0.5, rely=0.4, anchor=tk.CENTER)

def add_expense():
	# Placeholder function for adding an expense
	expense_name = name_entry.get()
	amount = amount_entry.get()
	category = category_var.get()
	print(f"Added Expense: {expense_name}, Amount: {amount}, Category: {category}")

ttk.Button(button_frame, text="Add Expense", command=add_expense).grid(row=0, column=0, padx=10, pady=10)
def clear_all():
	# Clear all input fields and reset the category dropdown
	name_entry.delete(0, tk.END)
	amount_entry.delete(0, tk.END)
	category_var.set("")

ttk.Button(button_frame, text="Clear All", command=clear_all).grid(row=0, column=1, padx=10, pady=10)

def delete_expense():
	# Placeholder function for deleting an expense
	print("Delete Expense button clicked")

delete_button = tk.Button(button_frame, text="Delete Expense", command=delete_expense, bg="red", fg="white", font=("Arial", 12))
delete_button.grid(row=0, column=2, padx=10, pady=10)

# from this point my colleagues took over.
